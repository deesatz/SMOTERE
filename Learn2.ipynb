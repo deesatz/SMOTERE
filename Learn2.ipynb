{
 "cells": [
  {
   "cell_type": "code",
   "execution_count": 14,
   "metadata": {
    "collapsed": true
   },
   "outputs": [],
   "source": [
    "import random\n",
    "import math\n",
    "import numpy as np\n",
    "import pandas as pd\n",
    "import os\n",
    "\n",
    "from IPython.display import display\n",
    "from sklearn.utils import resample\n",
    "from sklearn import linear_model\n",
    "from sklearn.linear_model import BayesianRidge\n",
    "from sklearn.tree import DecisionTreeRegressor\n",
    "from sklearn.neighbors import NearestNeighbors"
   ]
  },
  {
   "cell_type": "code",
   "execution_count": 2,
   "metadata": {
    "collapsed": true
   },
   "outputs": [],
   "source": [
    "def get_data():\n",
    "    path = os.getcwd()+'\\\\data'\n",
    "    name = os.listdir(path)\n",
    "    l = []\n",
    "    for i in name:\n",
    "        if '.csv' in i:\n",
    "            l.append(pd.read_csv(path+'\\\\'+i,engine='python'))\n",
    "        else:\n",
    "            new_path = path+'\\\\'+i\n",
    "            output = []\n",
    "            for j in os.listdir(new_path):\n",
    "                data = pd.read_csv(new_path+'\\\\'+j,engine='python')\n",
    "                output.append(data)\n",
    "            output = pd.concat(output,axis=0)\n",
    "            l.append(output)\n",
    "    return name,l"
   ]
  },
  {
   "cell_type": "code",
   "execution_count": 3,
   "metadata": {
    "collapsed": true
   },
   "outputs": [],
   "source": [
    "def smote(modules_input, ratio):\n",
    "    modules, char, bug = seperateData(modules_input, -1)\n",
    "    normal_modules, normal_char = seperateData(modules_input, 1)\n",
    "    \n",
    "    n = round((ratio*normal_modules.shape[0]-modules.shape[0])/modules.shape[0])\n",
    "    k = 5\n",
    "    \n",
    "    if n<=0:\n",
    "        return modules_input\n",
    "    \n",
    "    # 训练模型，取邻近的k个点（可修改邻近点数）\n",
    "    neigh = NearestNeighbors(n_neighbors=k, algorithm='ball_tree', n_jobs=-1)\n",
    "    neigh.fit(char)\n",
    "    index = neigh.kneighbors(n_neighbors=k,return_distance=False)\n",
    "    # result结果为narray类型的索引矩阵\n",
    "    a, b = index.shape\n",
    "\n",
    "    # 此处的用法详见书P83\n",
    "    axis0, axis1 = np.ogrid[:a, :b]\n",
    "    sort_axis = np.zeros(b,dtype=int)\n",
    "    for i in range(a):\n",
    "        temp = np.arange(b)\n",
    "        # 从k个邻近中随机抽取n个邻近\n",
    "        np.random.shuffle(temp)\n",
    "        sort_axis = np.vstack((sort_axis,temp))\n",
    "    # index_rand就是最终过采样得到矩阵的 下标\n",
    "    sort_axis = sort_axis[1:]\n",
    "    index_rand = index[axis0, sort_axis]\n",
    "\n",
    "    flag = 0\n",
    "    new_list = []\n",
    "    for i in range(a):\n",
    "        for j in range(n):\n",
    "            p = index_rand[i][np.random.randint(0,k)]\n",
    "\n",
    "#             p = index_rand[i][j]\n",
    "            # 计算新的模块的各项特征\n",
    "            new = char.iloc[i]+(char.iloc[p]-char.iloc[i])*np.random.rand()\n",
    "            #计算原两个模块与新模块之间的欧氏距离\n",
    "            d1 = np.linalg.norm(new-char.iloc[i])\n",
    "            d2 = np.linalg.norm(new-char.iloc[p])\n",
    "            if d1 == 0 and d2 == 0:\n",
    "                break\n",
    "            # 计算新模块的缺陷个数\n",
    "            bug_new = (d2*modules.iloc[i].loc['bug']+d1*modules.iloc[p].loc['bug'])/(d1+d2)\n",
    "            bug_new = float(round(bug_new))\n",
    "            # 将新模块的各项特征和缺陷个数合并\n",
    "            new['bug'] = bug_new\n",
    "            new_list.append(new)\n",
    "            flag += 1\n",
    "    # 将缺陷模块数据集和正常模块数据集合并\n",
    "\n",
    "    modules = pd.concat([modules,pd.concat(new_list,axis=1).T],axis=0)\n",
    "    # modules_new的样式分为三部分，最上面时旧的缺陷数据集，中间时新合成的缺陷数据集，下面时正常数据集\n",
    "    modules_new = pd.concat([modules, normal_modules], axis=0)\n",
    "#     modules_new = modules_new.dropna(axis=0)\n",
    "    \n",
    "    return modules_new"
   ]
  },
  {
   "cell_type": "code",
   "execution_count": 4,
   "metadata": {
    "collapsed": true
   },
   "outputs": [],
   "source": [
    "def FPA(testBug, testPre):\n",
    "    K = len(testBug)\n",
    "    N = np.sum(testBug)\n",
    "    \n",
    "    sort_axis = np.argsort(testPre)\n",
    "    testBug=np.array(testBug)\n",
    "    testBug = testBug[sort_axis]\n",
    "    P = sum(np.sum(testBug[m:])/N for m in range(K+1))/K\n",
    "    return P"
   ]
  },
  {
   "cell_type": "code",
   "execution_count": 5,
   "metadata": {
    "collapsed": true
   },
   "outputs": [],
   "source": [
    "def RegressionModel(train_data_X, train_data_y, test_data_X):\n",
    "    dtr = DecisionTreeRegressor().fit(train_data_X, train_data_y)\n",
    "    lr = linear_model.LinearRegression().fit(train_data_X, train_data_y)\n",
    "    bayes = BayesianRidge().fit(train_data_X, train_data_y)\n",
    "    return dtr.predict(test_data_X),lr.predict(test_data_X),bayes.predict(test_data_X)"
   ]
  },
  {
   "cell_type": "code",
   "execution_count": 84,
   "metadata": {
    "collapsed": true
   },
   "outputs": [],
   "source": [
    "def bootstrap_resample(original_data):\n",
    "    l = original_data.shape[0]\n",
    "    original_data = original_data.set_index(np.arange(0,l))\n",
    "#     index = np.random.randint(0,l,l)\n",
    "    index0 = np.arange(0,l)\n",
    "    index = resample(index0)\n",
    "    train_data = original_data.iloc[index]\n",
    "    test_data = original_data.drop(original_data.index[np.unique(index)])\n",
    "    return train_data, test_data"
   ]
  },
  {
   "cell_type": "code",
   "execution_count": 85,
   "metadata": {
    "collapsed": true
   },
   "outputs": [],
   "source": [
    "def seperateData(modules, Type):\n",
    "    if Type==-1:\n",
    "        rare_modules = modules[modules.bug!=0]\n",
    "        rare_char = rare_modules.iloc[:, :-1]\n",
    "        rare_bug = rare_modules.iloc[:, -1]\n",
    "        return rare_modules, rare_char, rare_bug\n",
    "    elif Type==1:\n",
    "        normal_modules = modules[modules.bug==0]    \n",
    "        normal_char = normal_modules.iloc[:, :-1]\n",
    "        return normal_modules, normal_char\n",
    "    else:\n",
    "        char = modules.iloc[:, :-1]\n",
    "        bug = modules.iloc[:, -1]\n",
    "        return char, bug"
   ]
  },
  {
   "cell_type": "code",
   "execution_count": 86,
   "metadata": {
    "collapsed": true
   },
   "outputs": [],
   "source": [
    "def NoSmote_NoBagging(dataset):\n",
    "    train_data, test_data = bootstrap_resample(dataset)\n",
    "    train_data_X, train_data_y = seperateData(train_data, 0)\n",
    "    test_data_X, test_data_y = seperateData(test_data, 0)\n",
    "    result = []\n",
    "    for i in RegressionModel(train_data_X, train_data_y, test_data_X):\n",
    "        result.append(FPA(test_data_y,i))\n",
    "        reg = ['dtr','lr','bayes']\n",
    "#     for (i,j) in zip(reg, output):\n",
    "#         print('{:<6}: {:>8.4f}'.format(i,j))   \n",
    "    return result"
   ]
  },
  {
   "cell_type": "code",
   "execution_count": 96,
   "metadata": {
    "collapsed": true
   },
   "outputs": [],
   "source": [
    "def NoSmote_Bagging(dataset):\n",
    "    train_data, test_data = bootstrap_resample(dataset)\n",
    "    train_data_X, train_data_y = seperateData(train_data, 0)\n",
    "    test_data_X, test_data_y = seperateData(test_data, 0)\n",
    "    result_sum = []\n",
    "    for i in range(20):\n",
    "        result = []\n",
    "        for i in RegressionModel(train_data_X, train_data_y, test_data_X):\n",
    "            result.append(FPA(test_data_y,i))\n",
    "        result_sum.append(result)\n",
    "    output = mean(list(zip(*result_sum)))\n",
    "    reg = ['dtr','lr','bayes']\n",
    "#     for (i,j) in zip(reg, output):\n",
    "#         print('{:<6}: {:>8.4f}'.format(i,j))   \n",
    "#     print('NoSmote:{}'.format(type(output)))\n",
    "    return output"
   ]
  },
  {
   "cell_type": "code",
   "execution_count": 95,
   "metadata": {
    "collapsed": true
   },
   "outputs": [],
   "source": [
    "def Smote_NoBagging(dataset):\n",
    "    train_data, test_data = bootstrap_resample(dataset)\n",
    "    train_data = smote(train_data,1)\n",
    "    train_data_X, train_data_y = seperateData(train_data, 0)\n",
    "    test_data_X, test_data_y = seperateData(test_data, 0)\n",
    "    result = []\n",
    "    for i in RegressionModel(train_data_X, train_data_y, test_data_X):\n",
    "        result.append(FPA(test_data_y,i))\n",
    "    reg = ['dtr','lr','bayes']\n",
    "#     for (i,j) in zip(reg, output):\n",
    "#         print('{:<6}: {:>8.4f}'.format(i,j))   \n",
    "    return result"
   ]
  },
  {
   "cell_type": "code",
   "execution_count": 89,
   "metadata": {
    "collapsed": true
   },
   "outputs": [],
   "source": [
    "def Smote_Bagging(dataset):\n",
    "    train_data, test_data = bootstrap_resample(dataset)\n",
    "    test_data_X, test_data_y = seperateData(test_data, 0)\n",
    "    result_sum = []\n",
    "    for i in range(20):\n",
    "        train_data = smote(train_data,1)\n",
    "        train_data_X, train_data_y = seperateData(train_data, 0)\n",
    "        result = []\n",
    "        for i in RegressionModel(train_data_X, train_data_y, test_data_X):\n",
    "            result.append(FPA(test_data_y,i))\n",
    "        result_sum.append(result)\n",
    "    output = mean(list(zip(*result_sum)))\n",
    "    reg = ['dtr','lr','bayes']\n",
    "#     for (i,j) in zip(reg, output):\n",
    "#         print('{:<6}: {:>8.4f}'.format(i,j))   \n",
    "    return output"
   ]
  },
  {
   "cell_type": "code",
   "execution_count": 90,
   "metadata": {
    "collapsed": true
   },
   "outputs": [],
   "source": [
    "def mean(l):\n",
    "    return list(sum(list(x))/len(x) for x in l)"
   ]
  },
  {
   "cell_type": "code",
   "execution_count": 91,
   "metadata": {
    "collapsed": true
   },
   "outputs": [],
   "source": [
    "SMOTERE1 = ['NoSmote_NoBagging','NoSmote_Bagging','Smote_NoBagging','Smote_Bagging']\n",
    "def SMOTERE(n,dataset):\n",
    "    if n==0:\n",
    "        return NoSmote_NoBagging(dataset)\n",
    "    elif n==1:\n",
    "        return NoSmote_Bagging(dataset)\n",
    "    elif n==2:\n",
    "        return Smote_NoBagging(dataset)\n",
    "    else:\n",
    "        return Smote_Bagging(dataset)"
   ]
  },
  {
   "cell_type": "code",
   "execution_count": 97,
   "metadata": {
    "collapsed": false
   },
   "outputs": [
    {
     "name": "stdout",
     "output_type": "stream",
     "text": [
      "[0.70207399103138846, 0.80834626882833061, 0.80935236288375589]\n",
      "[0.63090446946932344, 0.78965487061294726, 0.80097441433030914]\n",
      "[0.60181821568956428, 0.80645441730782219, 0.81057148357209763]\n",
      "[0.6562113787940651, 0.78260514495712785, 0.78826051449571277]\n",
      "[0.68799709674599951, 0.74050077331438346, 0.74138998985381144]\n",
      "[0.68389925575206234, 0.74668685884045816, 0.73834888362809359]\n",
      "[0.66529154733054674, 0.71737350370859798, 0.71540537563339957]\n",
      "[0.67478243487092926, 0.70910996574713347, 0.7109944136492794]\n",
      "[0.84415584415584455, 0.89610389610389629, 0.88961038961038996]\n",
      "[0.6795000000000001, 0.89000000000000024, 0.79500000000000004]\n",
      "[0.80000000000000038, 0.82500000000000029, 0.87500000000000011]\n",
      "[0.76400000000000012, 0.86400000000000055, 0.85600000000000009]\n",
      "[0.77082856488899176, 0.76221675440604153, 0.78141451132982398]\n",
      "[0.64927424108458598, 0.67197170645446525, 0.71577512525788289]\n",
      "[0.72329059829059761, 0.73132183908046211, 0.73349543177129317]\n",
      "[0.67390133925566975, 0.7853152971263192, 0.79271821791506758]\n",
      "[0.70031555374592724, 0.80665207654723081, 0.81455618892508175]\n",
      "[0.78662472118719406, 0.83920613022868173, 0.83529522999101824]\n",
      "[0.77806404495521408, 0.83438992970675696, 0.83454207958453097]\n",
      "[0.77047167150225693, 0.85310686653771362, 0.85224451966473269]\n",
      "[0.67848101265822813, 0.7945750452079563, 0.80289330922242286]\n",
      "[0.66552982895285795, 0.76616604088443774, 0.79182311222361257]\n",
      "[0.64971287940935207, 0.7504101722723544, 0.75799835931091053]\n",
      "[0.72616509926854722, 0.76071055381400177, 0.81546499477533962]\n",
      "[0.62909486469142772, 0.68101141005775434, 0.69098151539340447]\n",
      "[0.64416466499253899, 0.68706554572915501, 0.6787404010627065]\n",
      "[0.61123654502494096, 0.69443048419157516, 0.71101526459888142]\n",
      "[0.6651806006493507, 0.72605519480519431, 0.73003246753246753]\n",
      "[0.66038781579851824, 0.73830695367463406, 0.73794366272312117]\n",
      "[0.66630033397025179, 0.74133473700746266, 0.74113885520809786]\n",
      "[0.67295360124864101, 0.74345547680610347, 0.74332867413483594]\n",
      "[0.67457500805336201, 0.73801740716262487, 0.7379811433188419]\n",
      "[0.60759916094584276, 0.68759534706330994, 0.69007437070938216]\n",
      "[0.61574773939253402, 0.75386042198005943, 0.74885230697890037]\n",
      "[0.60841694537346713, 0.71706614641397237, 0.73132664437012218]\n",
      "[0.68162571357656909, 0.7487714072970939, 0.74524695954331088]\n",
      "[0.54633896569380003, 0.68202764976958752, 0.68489503328213219]\n",
      "[0.49233706385780085, 0.86175115207373465, 0.86635944700460832]\n",
      "[0.63392592592592578, 0.75725925925925719, 0.75762962962962987]\n",
      "[0.64301639344262385, 0.86924590163934679, 0.83283196721311303]\n",
      "[0.56828249411236909, 0.64543848828081207, 0.65432600650442918]\n",
      "[0.61200401213116817, 0.65645731977001287, 0.65628356605800198]\n",
      "[0.66849978310454339, 0.66598099715936998, 0.66203489917859659]\n",
      "[0.6515971771576895, 0.7012167423750808, 0.70016223231667796]\n",
      "[0.55809016300011405, 0.65563376268095441, 0.65987974467115096]\n",
      "[0.52354372201751231, 0.61908158009429792, 0.62752882443836944]\n",
      "[0.53378632311600793, 0.65764946407901337, 0.68591873243035861]\n",
      "[0.52987277321218929, 0.62803710887652409, 0.63796513705272939]\n",
      "[0.61920026205573353, 0.69092398043941161, 0.69292215540840874]\n",
      "[0.66057574100645511, 0.7660852620724331, 0.7700045137449032]\n",
      "[0.69230705933660819, 0.7663523332263612, 0.77765846272844719]\n",
      "[0.68847458736723754, 0.75280544066791466, 0.76659965957315768]\n"
     ]
    }
   ],
   "source": [
    "colums = ['dataset','RAW','Bagging','SMOTE','SMOTE_Bagging']\n",
    "pd.DataFrame(result_DTR,colums=columns=)"
   ]
  },
  {
   "cell_type": "code",
   "execution_count": 102,
   "metadata": {
    "collapsed": false
   },
   "outputs": [
    {
     "name": "stdout",
     "output_type": "stream",
     "text": [
      "[[0.70207399103138846, 0.63090446946932344, 0.60181821568956428, 0.6562113787940651], [0.68799709674599951, 0.68389925575206234, 0.66529154733054674, 0.67478243487092926], [0.84415584415584455, 0.6795000000000001, 0.80000000000000038, 0.76400000000000012], [0.77082856488899176, 0.64927424108458598, 0.72329059829059761, 0.67390133925566975], [0.70031555374592724, 0.78662472118719406, 0.77806404495521408, 0.77047167150225693], [0.67848101265822813, 0.66552982895285795, 0.64971287940935207, 0.72616509926854722], [0.62909486469142772, 0.64416466499253899, 0.61123654502494096, 0.6651806006493507], [0.66038781579851824, 0.66630033397025179, 0.67295360124864101, 0.67457500805336201], [0.60759916094584276, 0.61574773939253402, 0.60841694537346713, 0.68162571357656909], [0.54633896569380003, 0.49233706385780085, 0.63392592592592578, 0.64301639344262385], [0.56828249411236909, 0.61200401213116817, 0.66849978310454339, 0.6515971771576895], [0.55809016300011405, 0.52354372201751231, 0.53378632311600793, 0.52987277321218929], [0.61920026205573353, 0.66057574100645511, 0.69230705933660819, 0.68847458736723754]]\n"
     ]
    }
   ],
   "source": [
    "print(result_DTR)"
   ]
  },
  {
   "cell_type": "code",
   "execution_count": 104,
   "metadata": {
    "collapsed": true
   },
   "outputs": [],
   "source": [
    "colums = ['RAW','Bagging','SMOTE','SMOTE_Bagging']\n",
    "# pd.DataFrame(result_DTR,columns=colums).to_csv('DTR.csv')\n",
    "# pd.DataFrame(result_LR,columns=colums).to_csv('LR.csv')\n",
    "pd.DataFrame(result_BRR,columns=colums).to_csv('BRR.csv')"
   ]
  }
 ],
 "metadata": {
  "kernelspec": {
   "display_name": "Python 3",
   "language": "python",
   "name": "python3"
  },
  "language_info": {
   "codemirror_mode": {
    "name": "ipython",
    "version": 3
   },
   "file_extension": ".py",
   "mimetype": "text/x-python",
   "name": "python",
   "nbconvert_exporter": "python",
   "pygments_lexer": "ipython3",
   "version": "3.6.0"
  }
 },
 "nbformat": 4,
 "nbformat_minor": 2
}
