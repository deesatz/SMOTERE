{
 "cells": [
  {
   "cell_type": "code",
   "execution_count": 1,
   "metadata": {
    "collapsed": true
   },
   "outputs": [],
   "source": [
    "import random\n",
    "import math\n",
    "import numpy as np\n",
    "import pandas as pd\n",
    "import os\n",
    "\n",
    "from IPython.display import display\n",
    "from sklearn import linear_model\n",
    "from sklearn.linear_model import BayesianRidge\n",
    "from sklearn.tree import DecisionTreeRegressor\n",
    "from sklearn.neighbors import NearestNeighbors"
   ]
  },
  {
   "cell_type": "code",
   "execution_count": 2,
   "metadata": {
    "collapsed": true
   },
   "outputs": [],
   "source": [
    "def get_data():\n",
    "    path = os.getcwd()+'\\\\data'\n",
    "    name = os.listdir(path)\n",
    "    name0 = []\n",
    "    l = []\n",
    "    for i in name:\n",
    "        if i in ['ant','ivy','synapse']:\n",
    "            new_path = path+'\\\\'+i\n",
    "            output = []\n",
    "            for j in os.listdir(new_path):\n",
    "                data = pd.read_csv(new_path+'\\\\'+j,engine='python')\n",
    "                output.append(data)\n",
    "            output = pd.concat(output,axis=0)\n",
    "            name0.append(i)\n",
    "            l.append(output)\n",
    "    return name0,l"
   ]
  },
  {
   "cell_type": "markdown",
   "metadata": {},
   "source": [
    "## 数据集分析函数\n",
    "+ 输入数据集以及Type，\n",
    "+ Type == -1时，返回数据集中的（1）缺陷模块数据集（2）缺陷模块的特征数据集（3）缺陷模块的bug数据集\n",
    "+ Type == 0时，返回数据集中的（1）模块特征数据集（2）模块bug数据集\n",
    "+ Type == 1时，返回数据集中的（1）正常模块数据集（2）正常模块的特征数据集"
   ]
  },
  {
   "cell_type": "code",
   "execution_count": 3,
   "metadata": {
    "code_folding": [],
    "collapsed": true
   },
   "outputs": [],
   "source": [
    "def seperateData(modules, Type):\n",
    "    if Type==-1:\n",
    "        rare_modules = modules[modules.bug!=0]\n",
    "        rare_char = rare_modules.iloc[:, :-1]\n",
    "        rare_bug = rare_modules.iloc[:, -1]\n",
    "        return rare_modules, rare_char, rare_bug\n",
    "    elif Type==1:\n",
    "        normal_modules = modules[modules.bug==0]\n",
    "        \n",
    "        normal_char = normal_modules.iloc[:, :-1]\n",
    "        return normal_modules, normal_char\n",
    "    else:\n",
    "        char = modules.iloc[:, :-1]\n",
    "        bug = modules.iloc[:, -1]\n",
    "        return char, bug"
   ]
  },
  {
   "cell_type": "markdown",
   "metadata": {},
   "source": [
    "## SMOTE过采样函数\n",
    "+ Input:训练模块数据集，k邻近的值，从k邻近中任取n个值\n",
    "+ Output：经过SMOTE过采样后的新数据集，dataframe格式，21维，包含20维的特征值和1维的bug数量"
   ]
  },
  {
   "cell_type": "code",
   "execution_count": 4,
   "metadata": {
    "code_folding": [],
    "collapsed": true
   },
   "outputs": [],
   "source": [
    "def smote(modules_input, ratio):\n",
    "    modules, char, bug = seperateData(modules_input, -1)\n",
    "    normal_modules, normal_char = seperateData(modules_input, 1)\n",
    "    \n",
    "    n = round((ratio*normal_modules.shape[0]-modules.shape[0])/modules.shape[0])\n",
    "    k = 5\n",
    "    \n",
    "    if n<=0:\n",
    "        return modules_input\n",
    "    \n",
    "    # 训练模型，取邻近的k个点（可修改邻近点数）\n",
    "    neigh = NearestNeighbors(n_neighbors=k, algorithm='ball_tree', n_jobs=-1)\n",
    "    neigh.fit(char)\n",
    "    index = neigh.kneighbors(n_neighbors=k,return_distance=False)\n",
    "    # result结果为narray类型的索引矩阵\n",
    "    a, b = index.shape\n",
    "\n",
    "    # 此处的用法详见书P83\n",
    "    axis0, axis1 = np.ogrid[:a, :b]\n",
    "    sort_axis = np.zeros(b,dtype=int)\n",
    "    for i in range(a):\n",
    "        temp = np.arange(b)\n",
    "        # 从k个邻近中随机抽取n个邻近\n",
    "        np.random.shuffle(temp)\n",
    "        sort_axis = np.vstack((sort_axis,temp))\n",
    "    # index_rand就是最终过采样得到矩阵的 下标\n",
    "    sort_axis = sort_axis[1:]\n",
    "    index_rand = index[axis0, sort_axis]\n",
    "\n",
    "    flag = 0\n",
    "    new_list = []\n",
    "    for i in range(a):\n",
    "        for j in range(n):\n",
    "            p = index_rand[i][np.random.randint(0,k)]\n",
    "\n",
    "#             p = index_rand[i][j]\n",
    "            # 计算新的模块的各项特征\n",
    "            new = char.iloc[i]+(char.iloc[p]-char.iloc[i])*np.random.rand()\n",
    "            #计算原两个模块与新模块之间的欧氏距离\n",
    "            d1 = np.linalg.norm(new-char.iloc[i])\n",
    "            d2 = np.linalg.norm(new-char.iloc[p])\n",
    "            if d1 == 0 and d2 == 0:\n",
    "                break\n",
    "            # 计算新模块的缺陷个数\n",
    "            bug_new = (d2*modules.iloc[i].loc['bug']+d1*modules.iloc[p].loc['bug'])/(d1+d2)\n",
    "            bug_new = float(round(bug_new))\n",
    "            # 将新模块的各项特征和缺陷个数合并\n",
    "            new['bug'] = bug_new\n",
    "            new_list.append(new)\n",
    "            flag += 1\n",
    "    # 将缺陷模块数据集和正常模块数据集合并\n",
    "\n",
    "    modules = pd.concat([modules,pd.concat(new_list,axis=1).T],axis=0)\n",
    "    # modules_new的样式分为三部分，最上面时旧的缺陷数据集，中间时新合成的缺陷数据集，下面时正常数据集\n",
    "    modules_new = pd.concat([modules, normal_modules], axis=0)\n",
    "#     modules_new = modules_new.dropna(axis=0)\n",
    "    \n",
    "    return modules_new"
   ]
  },
  {
   "cell_type": "markdown",
   "metadata": {},
   "source": [
    "## 决策树函数\n",
    "+ Input: 训练数据集的自变量，训练数据集的因变量，测试数据集的自变量\n",
    "+ Output: 测试数据集因变量，即预测出的bug数量，narray格式"
   ]
  },
  {
   "cell_type": "code",
   "execution_count": 5,
   "metadata": {
    "code_folding": [],
    "collapsed": true
   },
   "outputs": [],
   "source": [
    "def decisiontree(trainChar,trainBug, testChar):\n",
    "    dtr = DecisionTreeRegressor()\n",
    "    dtr.fit(trainChar,trainBug)\n",
    "    return dtr.predict(testChar).astype(int)"
   ]
  },
  {
   "cell_type": "code",
   "execution_count": 6,
   "metadata": {
    "collapsed": true
   },
   "outputs": [],
   "source": [
    "# def decisiontree(train_data_X, train_data_y, test_data_X):\n",
    "#     lr = linear_model.LinearRegression().fit(train_data_X, train_data_y)\n",
    "#     return lr.predict(test_data_X).astype(int)"
   ]
  },
  {
   "cell_type": "code",
   "execution_count": 7,
   "metadata": {
    "collapsed": true
   },
   "outputs": [],
   "source": [
    "# def decisiontree(train_data_X, train_data_y, test_data_X):\n",
    "#     bayes = BayesianRidge().fit(train_data_X, train_data_y)\n",
    "#     return bayes.predict(test_data_X).astype(int)"
   ]
  },
  {
   "cell_type": "markdown",
   "metadata": {},
   "source": [
    "## FPA计算函数\n",
    "+ Input: 测试数据集的 实际 bug， 测试数据集的 预测 bug\n",
    "+ Output: FPA值"
   ]
  },
  {
   "cell_type": "code",
   "execution_count": 8,
   "metadata": {
    "code_folding": [],
    "collapsed": true
   },
   "outputs": [],
   "source": [
    "def FPA(testBug, testPre):\n",
    "    K = len(testBug)\n",
    "    N = np.sum(testBug)\n",
    "    \n",
    "    sort_axis = np.argsort(testPre)\n",
    "    testBug=np.array(testBug)\n",
    "    testBug = testBug[sort_axis]\n",
    "    P = sum(np.sum(testBug[m:])/N for m in range(K+1))/K\n",
    "    return P"
   ]
  },
  {
   "cell_type": "markdown",
   "metadata": {},
   "source": [
    "## 十折交叉验证法函数\n",
    "+ Input: 总数据集\n",
    "+ Output: FPA"
   ]
  },
  {
   "cell_type": "code",
   "execution_count": 9,
   "metadata": {
    "code_folding": [],
    "collapsed": true,
    "scrolled": true
   },
   "outputs": [],
   "source": [
    "def Smote_Bagging(dataset,n):\n",
    "    rare_modules, rare_char, rare_bug = seperateData(dataset, -1)\n",
    "    normal_modules, normal_char = seperateData(dataset, 1)\n",
    "    rare_test_len = math.ceil(rare_modules.shape[0]/10)\n",
    "    normal_test_len = math.ceil(normal_char.shape[0]/10)\n",
    "    temp = np.array([])\n",
    "    \n",
    "    dataset_temp = []\n",
    "    # 十折交叉验证，循环十次\n",
    "    for i in range(10):\n",
    "        rareX0 = i*rare_test_len\n",
    "        rareX1 = (i+1)*rare_test_len\n",
    "        normalX0 = i*normal_test_len\n",
    "        normalX1= (i+1)*normal_test_len\n",
    "        \n",
    "        if rareX1 >=rare_modules.shape[0]:\n",
    "            rareX1 = rare_modules.shape[0]\n",
    "        if normalX1 >= normal_modules.shape[0]:\n",
    "            normalX1 = normal_modules.shape[0]\n",
    "         # 测试集， 取1/10的数据集\n",
    "        testMod = pd.concat([rare_modules.iloc[rareX0:rareX1], normal_modules.iloc[normalX0:normalX1]],axis=0)\n",
    "        # 训练集，取剩下的数据集\n",
    "        trainMod = pd.concat([rare_modules.drop(rare_modules.index[list(range(rareX0,rareX1))]),normal_modules.drop(normal_modules.index[list(range(normalX0,normalX1))])],axis=0)\n",
    "        dataset_temp.append(testMod)\n",
    "        # 用以储存测试集预测Bug数据集\n",
    "        testPre_sum = np.zeros(len(testMod))\n",
    "\n",
    "        flag = 0\n",
    "        # 每一折进行20次过采样\n",
    "        for j in range(n):\n",
    "            # 对训练集进行过采样\n",
    "            trainMod_new = smote(trainMod,1)\n",
    "            trainMod_new = trainMod_new.dropna(axis=0)\n",
    "            # 提取 特征值 和 bug值\n",
    "            trainChar, trainBug = seperateData(trainMod_new, 0)\n",
    "            testChar, testBug = seperateData(testMod, 0)\n",
    "\n",
    "            testPre = decisiontree(trainChar, trainBug, testChar)\n",
    "            flag += 1\n",
    "            testPre_sum += testPre\n",
    "        # 对预测结果求平均\n",
    "        testPre_sum /= flag\n",
    "        temp = np.hstack((temp, testPre_sum))\n",
    "    dataset_new = pd.concat(dataset_temp,axis=0)\n",
    "    dataset_new['bug_new'] = temp\n",
    "    P = FPA(dataset_new['bug'],dataset_new['bug_new'])\n",
    "    print('{:<20}:{:>8.4f}'.format('SMOTE & Bagging',P))\n",
    "    return P"
   ]
  },
  {
   "cell_type": "code",
   "execution_count": 21,
   "metadata": {
    "code_folding": [],
    "collapsed": true
   },
   "outputs": [],
   "source": [
    "def Smote_NoBagging(dataset):\n",
    "    rare_modules, rare_char, rare_bug = seperateData(dataset, -1)\n",
    "    normal_modules, normal_char = seperateData(dataset, 1)\n",
    "    rare_test_len = math.ceil(rare_modules.shape[0]/10)\n",
    "    normal_test_len = math.ceil(normal_char.shape[0]/10)\n",
    "    temp = np.array([])\n",
    "    dataset_temp = []\n",
    "    \n",
    "    # 十折交叉验证，循环十次\n",
    "    for i in range(10):\n",
    "        rareX0 = i*rare_test_len\n",
    "        rareX1 = (i+1)*rare_test_len\n",
    "        normalX0 = i*normal_test_len\n",
    "        normalX1= (i+1)*normal_test_len\n",
    "        \n",
    "        if rareX1 >=rare_modules.shape[0]:\n",
    "            rareX1 = rare_modules.shape[0]\n",
    "        if normalX1 >= normal_modules.shape[0]:\n",
    "            normalX1 = normal_modules.shape[0]\n",
    "        # 测试集， 取1/10的数据集\n",
    "        testMod = pd.concat([rare_modules.iloc[rareX0:rareX1], normal_modules.iloc[normalX0:normalX1]],axis=0)\n",
    "        # 训练集，取剩下的数据集\n",
    "        trainMod = pd.concat([rare_modules.drop(rare_modules.index[list(range(rareX0,rareX1))]),normal_modules.drop(normal_modules.index[list(range(normalX0,normalX1))])],axis=0)\n",
    "        dataset_temp.append(testMod)\n",
    "        \n",
    "        # 用以储存测试集预测Bug数据集\n",
    "        testPre_sum = np.zeros(len(testMod))\n",
    "\n",
    "        # 对训练集进行过采样\n",
    "        trainMod_new = smote(trainMod,1)\n",
    "#         display(trainMod_new)\n",
    "        trainMod_new = trainMod_new.dropna(axis=0)\n",
    "        # 提取 特征值 和 bug值\n",
    "        trainChar, trainBug = seperateData(trainMod_new, 0)\n",
    "        testChar, testBug = seperateData(testMod, 0)\n",
    "\n",
    "        testPre = decisiontree(trainChar, trainBug, testChar)\n",
    "\n",
    "        temp = np.hstack((temp, testPre))\n",
    "    dataset_new = pd.concat(dataset_temp,axis=0)\n",
    "    dataset_new['bug_new'] = temp\n",
    "    P = FPA(dataset_new['bug'],dataset_new['bug_new'])\n",
    "    print('{:<20}:{:>8.4f}'.format('SMOTE & NoBagging',P))\n",
    "    pass"
   ]
  },
  {
   "cell_type": "code",
   "execution_count": 176,
   "metadata": {
    "code_folding": [],
    "collapsed": true
   },
   "outputs": [],
   "source": [
    "def NoSmote_Bagging(dataset,n):\n",
    "    rare_modules, rare_char, rare_bug = seperateData(dataset, -1)\n",
    "    normal_modules, normal_char = seperateData(dataset, 1)\n",
    "    rare_test_len = math.ceil(rare_modules.shape[0]/10)\n",
    "    normal_test_len = math.ceil(normal_char.shape[0]/10)\n",
    "    temp = np.array([])\n",
    "    dataset_temp = []\n",
    "    # 十折交叉验证，循环十次\n",
    "    for i in range(10):\n",
    "        rareX0 = i*rare_test_len\n",
    "        rareX1 = (i+1)*rare_test_len\n",
    "        normalX0 = i*normal_test_len\n",
    "        normalX1= (i+1)*normal_test_len\n",
    "        \n",
    "        if rareX1 >=rare_modules.shape[0]:\n",
    "            rareX1 = rare_modules.shape[0]\n",
    "        if normalX1 >= normal_modules.shape[0]:\n",
    "            normalX1 = normal_modules.shape[0]\n",
    "        # 测试集， 取1/10的数据集\n",
    "        testMod = pd.concat([rare_modules.iloc[rareX0:rareX1], normal_modules.iloc[normalX0:normalX1]],axis=0)\n",
    "         # 训练集，取剩下的数据集\n",
    "        trainMod = pd.concat([rare_modules.drop(rare_modules.index[list(range(rareX0,rareX1))]),normal_modules.drop(normal_modules.index[list(range(normalX0,normalX1))])],axis=0)\n",
    "        dataset_temp.append(testMod)\n",
    "        \n",
    "        # 用以储存测试集预测Bug数据集\n",
    "        testPre_sum = np.zeros(len(testMod))\n",
    "\n",
    "        flag = 0\n",
    "        for j in range(n):\n",
    "            # 提取 特征值 和 bug值\n",
    "            trainChar, trainBug = seperateData(trainMod, 0)\n",
    "            testChar, testBug = seperateData(testMod, 0)\n",
    "\n",
    "            testPre = decisiontree(trainChar, trainBug, testChar)\n",
    "\n",
    "            flag += 1\n",
    "            testPre_sum += testPre\n",
    "        # 对预测结果求平均\n",
    "        testPre_sum /= flag\n",
    "        temp = np.hstack((temp, testPre_sum))\n",
    "    dataset_new = pd.concat(dataset_temp,axis=0)\n",
    "    dataset_new['bug_new'] = temp\n",
    "    P = FPA(dataset_new['bug'],dataset_new['bug_new'])\n",
    "    print('{:<20}:{:>8.4f}'.format('NoSMOTE & Bagging',P))\n",
    "    return P\n",
    "    pass"
   ]
  },
  {
   "cell_type": "code",
   "execution_count": 23,
   "metadata": {
    "collapsed": true
   },
   "outputs": [],
   "source": [
    "def NoSmote_NoBagging(dataset):\n",
    "    rare_modules, rare_char, rare_bug = seperateData(dataset, -1)\n",
    "    normal_modules, normal_char = seperateData(dataset, 1)\n",
    "    rare_test_len = math.ceil(rare_modules.shape[0]/10)\n",
    "    normal_test_len = math.ceil(normal_char.shape[0]/10)\n",
    "    temp = np.array([])\n",
    "    \n",
    "    dataset_temp = []\n",
    "    # 十折交叉验证，循环十次\n",
    "    for i in range(10):\n",
    "        rareX0 = i*rare_test_len\n",
    "        rareX1 = (i+1)*rare_test_len\n",
    "        normalX0 = i*normal_test_len\n",
    "        normalX1= (i+1)*normal_test_len\n",
    "        \n",
    "        if rareX1 >=rare_modules.shape[0]:\n",
    "            rareX1 = rare_modules.shape[0]\n",
    "        if normalX1 >= normal_modules.shape[0]:\n",
    "            normalX1 = normal_modules.shape[0]\n",
    "        \n",
    "        # 测试集， 取1/10的数据集\n",
    "        testMod = pd.concat([rare_modules.iloc[rareX0:rareX1], normal_modules.iloc[normalX0:normalX1]],axis=0)\n",
    "        # 训练集，取剩下的数据集\n",
    "        trainMod = pd.concat([rare_modules.drop(rare_modules.index[list(range(rareX0,rareX1))]),normal_modules.drop(normal_modules.index[list(range(normalX0,normalX1))])],axis=0)\n",
    "        dataset_temp.append(testMod)\n",
    "        \n",
    "        # 提取 特征值 和 bug值\n",
    "        trainChar, trainBug = seperateData(trainMod, 0)\n",
    "        testChar, testBug = seperateData(testMod, 0)\n",
    "\n",
    "        testPre = decisiontree(trainChar, trainBug, testChar)\n",
    "        temp = np.hstack((temp, testPre))\n",
    "    dataset_new = pd.concat(dataset_temp,axis=0)\n",
    "    dataset_new['bug_new'] = temp\n",
    "    P = FPA(dataset_new['bug'],dataset_new['bug_new'])\n",
    "    print('{:<20}:{:>8.4f}'.format('NoSMOTE & NoBagging',P))\n",
    "    pass"
   ]
  },
  {
   "cell_type": "code",
   "execution_count": 177,
   "metadata": {
    "collapsed": false
   },
   "outputs": [
    {
     "name": "stdout",
     "output_type": "stream",
     "text": [
      "ant\n",
      "1\n",
      "NoSMOTE & Bagging   :  0.6937\n",
      "2\n",
      "NoSMOTE & Bagging   :  0.7139\n",
      "3\n",
      "NoSMOTE & Bagging   :  0.7272\n",
      "4\n",
      "NoSMOTE & Bagging   :  0.7215\n",
      "5\n",
      "NoSMOTE & Bagging   :  0.7259\n",
      "6\n",
      "NoSMOTE & Bagging   :  0.7232\n",
      "7\n",
      "NoSMOTE & Bagging   :  0.7329\n",
      "8\n",
      "NoSMOTE & Bagging   :  0.7274\n",
      "9\n",
      "NoSMOTE & Bagging   :  0.7321\n",
      "10\n",
      "NoSMOTE & Bagging   :  0.7316\n",
      "15\n",
      "NoSMOTE & Bagging   :  0.7248\n",
      "20\n",
      "NoSMOTE & Bagging   :  0.7320\n",
      "25\n",
      "NoSMOTE & Bagging   :  0.7297\n",
      "30\n",
      "NoSMOTE & Bagging   :  0.7250\n",
      "35\n",
      "NoSMOTE & Bagging   :  0.7330\n",
      "40\n",
      "NoSMOTE & Bagging   :  0.7308\n",
      "45\n",
      "NoSMOTE & Bagging   :  0.7292\n",
      "ivy\n",
      "1\n",
      "NoSMOTE & Bagging   :  0.6964\n",
      "2\n",
      "NoSMOTE & Bagging   :  0.7110\n",
      "3\n",
      "NoSMOTE & Bagging   :  0.7294\n",
      "4\n",
      "NoSMOTE & Bagging   :  0.7236\n",
      "5\n",
      "NoSMOTE & Bagging   :  0.7502\n",
      "6\n",
      "NoSMOTE & Bagging   :  0.7345\n",
      "7\n",
      "NoSMOTE & Bagging   :  0.7316\n",
      "8\n",
      "NoSMOTE & Bagging   :  0.7388\n",
      "9\n",
      "NoSMOTE & Bagging   :  0.7501\n",
      "10\n",
      "NoSMOTE & Bagging   :  0.7506\n",
      "15\n",
      "NoSMOTE & Bagging   :  0.7501\n",
      "20\n",
      "NoSMOTE & Bagging   :  0.7531\n",
      "25\n",
      "NoSMOTE & Bagging   :  0.7491\n",
      "30\n",
      "NoSMOTE & Bagging   :  0.7464\n",
      "35\n",
      "NoSMOTE & Bagging   :  0.7476\n",
      "40\n",
      "NoSMOTE & Bagging   :  0.7463\n",
      "45\n",
      "NoSMOTE & Bagging   :  0.7463\n",
      "synapse\n",
      "1\n",
      "NoSMOTE & Bagging   :  0.6232\n",
      "2\n",
      "NoSMOTE & Bagging   :  0.6451\n",
      "3\n",
      "NoSMOTE & Bagging   :  0.6325\n",
      "4\n",
      "NoSMOTE & Bagging   :  0.6415\n",
      "5\n",
      "NoSMOTE & Bagging   :  0.6278\n",
      "6\n",
      "NoSMOTE & Bagging   :  0.6400\n",
      "7\n",
      "NoSMOTE & Bagging   :  0.6335\n",
      "8\n",
      "NoSMOTE & Bagging   :  0.6356\n",
      "9\n",
      "NoSMOTE & Bagging   :  0.6309\n",
      "10\n",
      "NoSMOTE & Bagging   :  0.6304\n",
      "15\n",
      "NoSMOTE & Bagging   :  0.6322\n",
      "20\n",
      "NoSMOTE & Bagging   :  0.6365\n",
      "25\n",
      "NoSMOTE & Bagging   :  0.6314\n",
      "30\n",
      "NoSMOTE & Bagging   :  0.6320\n",
      "35\n",
      "NoSMOTE & Bagging   :  0.6322\n",
      "40\n",
      "NoSMOTE & Bagging   :  0.6328\n",
      "45\n",
      "NoSMOTE & Bagging   :  0.6334\n"
     ]
    }
   ],
   "source": [
    "final_output = []\n",
    "for (i,j) in zip(*get_data()):\n",
    "    l = []\n",
    "    print(i)\n",
    "    if j.shape[1] == 24:\n",
    "        j = j.drop(j.columns[[0,1,2]], axis=1)\n",
    "    else:\n",
    "        j = j.drop(j.columns[[0,1,2,3]], axis=1)\n",
    "    for k in line:\n",
    "        print(k)\n",
    "        temp = NoSmote_Bagging(j,k)\n",
    "        l.append(temp)\n",
    "    final_output.append(l)"
   ]
  },
  {
   "cell_type": "code",
   "execution_count": 179,
   "metadata": {
    "collapsed": false
   },
   "outputs": [
    {
     "name": "stdout",
     "output_type": "stream",
     "text": [
      "[0.69365394821322124, 0.71392293960682818, 0.72721385335366229, 0.72154955817569655, 0.72594646150877296, 0.72318436376187523, 0.73289856040615697, 0.72736787022501159, 0.73207559073820594, 0.73158848918727482, 0.72477927341148873, 0.73197260355314886, 0.72974863704347204, 0.72495741340725572, 0.73298113571669909, 0.73083510545516794, 0.72919287736917371]\n",
      "[0.69643452028427855, 0.71097220165827557, 0.72940572253479408, 0.72359897838318055, 0.7501711948474985, 0.73445828397986712, 0.73157573289902345, 0.73880293159609289, 0.75010641841871528, 0.75059224163458749, 0.75011567219425512, 0.75310464169381175, 0.74911626443588841, 0.74644192330470926, 0.74755237636955774, 0.74629848978382973, 0.7462938628960607]\n",
      "[0.623212004159859, 0.64514039518645305, 0.6325360273362064, 0.64145595008171075, 0.6278294458475705, 0.64004754122715557, 0.6334868518793616, 0.6355548952607335, 0.63085425642549564, 0.63036101619372975, 0.63222106670628442, 0.63648194919031498, 0.63144852176496824, 0.63203684445104868, 0.63217946813252179, 0.63283910265933907, 0.6334393106522066]\n"
     ]
    }
   ],
   "source": [
    "for i in final_output:\n",
    "    print(i)\n",
    "# print(final_output)"
   ]
  },
  {
   "cell_type": "code",
   "execution_count": 180,
   "metadata": {
    "collapsed": false
   },
   "outputs": [
    {
     "data": {
      "text/html": [
       "<div>\n",
       "<style>\n",
       "    .dataframe thead tr:only-child th {\n",
       "        text-align: right;\n",
       "    }\n",
       "\n",
       "    .dataframe thead th {\n",
       "        text-align: left;\n",
       "    }\n",
       "\n",
       "    .dataframe tbody tr th {\n",
       "        vertical-align: top;\n",
       "    }\n",
       "</style>\n",
       "<table border=\"1\" class=\"dataframe\">\n",
       "  <thead>\n",
       "    <tr style=\"text-align: right;\">\n",
       "      <th></th>\n",
       "      <th>1</th>\n",
       "      <th>2</th>\n",
       "      <th>3</th>\n",
       "      <th>4</th>\n",
       "      <th>5</th>\n",
       "      <th>6</th>\n",
       "      <th>7</th>\n",
       "      <th>8</th>\n",
       "      <th>9</th>\n",
       "      <th>10</th>\n",
       "      <th>15</th>\n",
       "      <th>20</th>\n",
       "      <th>25</th>\n",
       "      <th>30</th>\n",
       "      <th>35</th>\n",
       "      <th>40</th>\n",
       "      <th>45</th>\n",
       "    </tr>\n",
       "  </thead>\n",
       "  <tbody>\n",
       "    <tr>\n",
       "      <th>ant</th>\n",
       "      <td>0.693654</td>\n",
       "      <td>0.713923</td>\n",
       "      <td>0.727214</td>\n",
       "      <td>0.721550</td>\n",
       "      <td>0.725946</td>\n",
       "      <td>0.723184</td>\n",
       "      <td>0.732899</td>\n",
       "      <td>0.727368</td>\n",
       "      <td>0.732076</td>\n",
       "      <td>0.731588</td>\n",
       "      <td>0.724779</td>\n",
       "      <td>0.731973</td>\n",
       "      <td>0.729749</td>\n",
       "      <td>0.724957</td>\n",
       "      <td>0.732981</td>\n",
       "      <td>0.730835</td>\n",
       "      <td>0.729193</td>\n",
       "    </tr>\n",
       "    <tr>\n",
       "      <th>ivy</th>\n",
       "      <td>0.696435</td>\n",
       "      <td>0.710972</td>\n",
       "      <td>0.729406</td>\n",
       "      <td>0.723599</td>\n",
       "      <td>0.750171</td>\n",
       "      <td>0.734458</td>\n",
       "      <td>0.731576</td>\n",
       "      <td>0.738803</td>\n",
       "      <td>0.750106</td>\n",
       "      <td>0.750592</td>\n",
       "      <td>0.750116</td>\n",
       "      <td>0.753105</td>\n",
       "      <td>0.749116</td>\n",
       "      <td>0.746442</td>\n",
       "      <td>0.747552</td>\n",
       "      <td>0.746298</td>\n",
       "      <td>0.746294</td>\n",
       "    </tr>\n",
       "    <tr>\n",
       "      <th>synapse</th>\n",
       "      <td>0.623212</td>\n",
       "      <td>0.645140</td>\n",
       "      <td>0.632536</td>\n",
       "      <td>0.641456</td>\n",
       "      <td>0.627829</td>\n",
       "      <td>0.640048</td>\n",
       "      <td>0.633487</td>\n",
       "      <td>0.635555</td>\n",
       "      <td>0.630854</td>\n",
       "      <td>0.630361</td>\n",
       "      <td>0.632221</td>\n",
       "      <td>0.636482</td>\n",
       "      <td>0.631449</td>\n",
       "      <td>0.632037</td>\n",
       "      <td>0.632179</td>\n",
       "      <td>0.632839</td>\n",
       "      <td>0.633439</td>\n",
       "    </tr>\n",
       "  </tbody>\n",
       "</table>\n",
       "</div>"
      ],
      "text/plain": [
       "               1         2         3         4         5         6         7   \\\n",
       "ant      0.693654  0.713923  0.727214  0.721550  0.725946  0.723184  0.732899   \n",
       "ivy      0.696435  0.710972  0.729406  0.723599  0.750171  0.734458  0.731576   \n",
       "synapse  0.623212  0.645140  0.632536  0.641456  0.627829  0.640048  0.633487   \n",
       "\n",
       "               8         9         10        15        20        25        30  \\\n",
       "ant      0.727368  0.732076  0.731588  0.724779  0.731973  0.729749  0.724957   \n",
       "ivy      0.738803  0.750106  0.750592  0.750116  0.753105  0.749116  0.746442   \n",
       "synapse  0.635555  0.630854  0.630361  0.632221  0.636482  0.631449  0.632037   \n",
       "\n",
       "               35        40        45  \n",
       "ant      0.732981  0.730835  0.729193  \n",
       "ivy      0.747552  0.746298  0.746294  \n",
       "synapse  0.632179  0.632839  0.633439  "
      ]
     },
     "metadata": {},
     "output_type": "display_data"
    }
   ],
   "source": [
    "y = pd.DataFrame(final_output,index=['ant','ivy','synapse'],columns=line)\n",
    "display(y)"
   ]
  },
  {
   "cell_type": "code",
   "execution_count": 186,
   "metadata": {
    "collapsed": true
   },
   "outputs": [],
   "source": [
    "z = (np.array(x)-np.array(y))/np.array(y)"
   ]
  },
  {
   "cell_type": "code",
   "execution_count": 190,
   "metadata": {
    "collapsed": true
   },
   "outputs": [],
   "source": [
    "z = pd.DataFrame(z,index=['ant','ivy','synapse'],columns=line)"
   ]
  },
  {
   "cell_type": "code",
   "execution_count": 165,
   "metadata": {
    "collapsed": true
   },
   "outputs": [],
   "source": [
    "line = list(range(1,10))\n",
    "line[len(line):len(line)]=list(range(10,50,5))"
   ]
  },
  {
   "cell_type": "code",
   "execution_count": 168,
   "metadata": {
    "collapsed": false
   },
   "outputs": [
    {
     "name": "stdout",
     "output_type": "stream",
     "text": [
      "[1, 2, 3, 4, 5, 6, 7, 8, 9, 10, 15, 20, 25, 30, 35, 40, 45]\n"
     ]
    }
   ],
   "source": [
    "print(line)"
   ]
  },
  {
   "cell_type": "code",
   "execution_count": 128,
   "metadata": {
    "collapsed": true
   },
   "outputs": [],
   "source": [
    "import matplotlib.pyplot as plt\n",
    "%matplotlib inline"
   ]
  },
  {
   "cell_type": "code",
   "execution_count": 10,
   "metadata": {
    "collapsed": false
   },
   "outputs": [
    {
     "ename": "NameError",
     "evalue": "name 'z' is not defined",
     "output_type": "error",
     "traceback": [
      "\u001b[1;31m---------------------------------------------------------------------------\u001b[0m",
      "\u001b[1;31mNameError\u001b[0m                                 Traceback (most recent call last)",
      "\u001b[1;32m<ipython-input-10-504989b11346>\u001b[0m in \u001b[0;36m<module>\u001b[1;34m()\u001b[0m\n\u001b[1;32m----> 1\u001b[1;33m \u001b[0mz\u001b[0m\u001b[1;33m.\u001b[0m\u001b[0mT\u001b[0m\u001b[1;33m.\u001b[0m\u001b[0miloc\u001b[0m\u001b[1;33m[\u001b[0m\u001b[1;33m:\u001b[0m\u001b[1;33m,\u001b[0m\u001b[1;36m0\u001b[0m\u001b[1;33m]\u001b[0m\u001b[1;33m.\u001b[0m\u001b[0mplot\u001b[0m\u001b[1;33m(\u001b[0m\u001b[0mstyle\u001b[0m\u001b[1;33m=\u001b[0m\u001b[1;34m'-o'\u001b[0m\u001b[1;33m)\u001b[0m\u001b[1;33m\u001b[0m\u001b[0m\n\u001b[0m\u001b[0;32m      2\u001b[0m \u001b[0mz\u001b[0m\u001b[1;33m.\u001b[0m\u001b[0mT\u001b[0m\u001b[1;33m.\u001b[0m\u001b[0miloc\u001b[0m\u001b[1;33m[\u001b[0m\u001b[1;33m:\u001b[0m\u001b[1;33m,\u001b[0m\u001b[1;36m1\u001b[0m\u001b[1;33m]\u001b[0m\u001b[1;33m.\u001b[0m\u001b[0mplot\u001b[0m\u001b[1;33m(\u001b[0m\u001b[0mstyle\u001b[0m\u001b[1;33m=\u001b[0m\u001b[1;34m'-^'\u001b[0m\u001b[1;33m)\u001b[0m\u001b[1;33m\u001b[0m\u001b[0m\n\u001b[0;32m      3\u001b[0m \u001b[0mz\u001b[0m\u001b[1;33m.\u001b[0m\u001b[0mT\u001b[0m\u001b[1;33m.\u001b[0m\u001b[0miloc\u001b[0m\u001b[1;33m[\u001b[0m\u001b[1;33m:\u001b[0m\u001b[1;33m,\u001b[0m\u001b[1;36m2\u001b[0m\u001b[1;33m]\u001b[0m\u001b[1;33m.\u001b[0m\u001b[0mplot\u001b[0m\u001b[1;33m(\u001b[0m\u001b[0mstyle\u001b[0m\u001b[1;33m=\u001b[0m\u001b[1;34m'-s'\u001b[0m\u001b[1;33m)\u001b[0m\u001b[1;33m\u001b[0m\u001b[0m\n\u001b[0;32m      4\u001b[0m \u001b[0mplt\u001b[0m\u001b[1;33m.\u001b[0m\u001b[0mxlabel\u001b[0m\u001b[1;33m(\u001b[0m\u001b[1;34m'n'\u001b[0m\u001b[1;33m)\u001b[0m\u001b[1;33m\u001b[0m\u001b[0m\n\u001b[0;32m      5\u001b[0m \u001b[0mplt\u001b[0m\u001b[1;33m.\u001b[0m\u001b[0mylabel\u001b[0m\u001b[1;33m(\u001b[0m\u001b[1;34m'FPA Lift'\u001b[0m\u001b[1;33m)\u001b[0m\u001b[1;33m\u001b[0m\u001b[0m\n",
      "\u001b[1;31mNameError\u001b[0m: name 'z' is not defined"
     ]
    }
   ],
   "source": [
    "z.T.iloc[:,0].plot(style='-o')\n",
    "z.T.iloc[:,1].plot(style='-^')\n",
    "z.T.iloc[:,2].plot(style='-s')\n",
    "plt.xlabel('n')\n",
    "plt.ylabel('FPA Lift')\n",
    "plt.legend(z.index)\n",
    "# plt.savefig('n_test.svg')\n",
    "# plt.show()"
   ]
  }
 ],
 "metadata": {
  "kernelspec": {
   "display_name": "Python 3",
   "language": "python",
   "name": "python3"
  },
  "language_info": {
   "codemirror_mode": {
    "name": "ipython",
    "version": 3
   },
   "file_extension": ".py",
   "mimetype": "text/x-python",
   "name": "python",
   "nbconvert_exporter": "python",
   "pygments_lexer": "ipython3",
   "version": "3.6.0"
  },
  "toc": {
   "nav_menu": {},
   "number_sections": true,
   "sideBar": true,
   "skip_h1_title": false,
   "toc_cell": false,
   "toc_position": {},
   "toc_section_display": "block",
   "toc_window_display": false
  },
  "varInspector": {
   "cols": {
    "lenName": 16,
    "lenType": 16,
    "lenVar": 40
   },
   "kernels_config": {
    "python": {
     "delete_cmd_postfix": "",
     "delete_cmd_prefix": "del ",
     "library": "var_list.py",
     "varRefreshCmd": "print(var_dic_list())"
    },
    "r": {
     "delete_cmd_postfix": ") ",
     "delete_cmd_prefix": "rm(",
     "library": "var_list.r",
     "varRefreshCmd": "cat(var_dic_list()) "
    }
   },
   "position": {
    "height": "289px",
    "left": "858.182px",
    "right": "20px",
    "top": "120px",
    "width": "350px"
   },
   "types_to_exclude": [
    "module",
    "function",
    "builtin_function_or_method",
    "instance",
    "_Feature"
   ],
   "window_display": false
  }
 },
 "nbformat": 4,
 "nbformat_minor": 2
}
